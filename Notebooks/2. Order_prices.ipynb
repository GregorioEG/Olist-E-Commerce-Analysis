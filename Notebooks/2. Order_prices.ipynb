{
 "cells": [
  {
   "cell_type": "markdown",
   "id": "ed9a3290-84d0-4a6e-8982-cc8156a244bb",
   "metadata": {},
   "source": [
    "## 2. Order prices"
   ]
  },
  {
   "cell_type": "markdown",
   "id": "fa9e33c1-821e-488b-a34b-8c40834ed29c",
   "metadata": {},
   "source": [
    "What’s the average order value? Does Olist process transactions involving items with extremely low or high prices? Before addressing these questions, let’s take a closer look at the order_items table. This table includes various IDs along with the price and shipping cost of each item in an order. The currency used is the Brazilian real."
   ]
  },
  {
   "cell_type": "markdown",
   "id": "0585749d-adbc-41f9-a163-ca087d9668e0",
   "metadata": {},
   "source": [
    "Let's answer our first question then: What's the average order value, considering both the cost of products and shipping? To start, let's find the orders with the lowest and the highest costs:"
   ]
  },
  {
   "cell_type": "code",
   "execution_count": 2,
   "id": "388d8298-9169-4718-a759-62f74476ba4d",
   "metadata": {},
   "outputs": [],
   "source": [
    "import sqlite3\n",
    "import pandas as pd\n",
    "db_path = '/content/drive/MyDrive/Olist E-Commerce/olist.sqlite'\n",
    "db_connection = sqlite3.connect(db_path)"
   ]
  },
  {
   "cell_type": "code",
   "execution_count": 3,
   "id": "3de53e19-d54e-49de-8641-db7f58c8a0cb",
   "metadata": {},
   "outputs": [
    {
     "data": {
      "text/html": [
       "<div>\n",
       "<style scoped>\n",
       "    .dataframe tbody tr th:only-of-type {\n",
       "        vertical-align: middle;\n",
       "    }\n",
       "\n",
       "    .dataframe tbody tr th {\n",
       "        vertical-align: top;\n",
       "    }\n",
       "\n",
       "    .dataframe thead th {\n",
       "        text-align: right;\n",
       "    }\n",
       "</style>\n",
       "<table border=\"1\" class=\"dataframe\">\n",
       "  <thead>\n",
       "    <tr style=\"text-align: right;\">\n",
       "      <th></th>\n",
       "      <th>min_order_price</th>\n",
       "      <th>avg_order_price</th>\n",
       "      <th>max_order_price</th>\n",
       "    </tr>\n",
       "  </thead>\n",
       "  <tbody>\n",
       "    <tr>\n",
       "      <th>0</th>\n",
       "      <td>9.59</td>\n",
       "      <td>160.58</td>\n",
       "      <td>13664.08</td>\n",
       "    </tr>\n",
       "  </tbody>\n",
       "</table>\n",
       "</div>"
      ],
      "text/plain": [
       "   min_order_price  avg_order_price  max_order_price\n",
       "0             9.59           160.58         13664.08"
      ]
     },
     "execution_count": 3,
     "metadata": {},
     "output_type": "execute_result"
    }
   ],
   "source": [
    "order_price_stats = \"\"\"\n",
    "SELECT\n",
    "    MIN(order_price) AS min_order_price,\n",
    "    ROUND(AVG(order_price), 2) AS avg_order_price,\n",
    "    MAX(order_price) AS max_order_price\n",
    "FROM (\n",
    "    SELECT\n",
    "        orders.order_id,\n",
    "        SUM(order_items.price + order_items.freight_value) AS order_price\n",
    "    FROM orders\n",
    "        JOIN order_items USING (order_id)\n",
    "    GROUP BY orders.order_id\n",
    ")\n",
    "\"\"\"\n",
    "\n",
    "pd.read_sql_query(order_price_stats, db_connection)"
   ]
  },
  {
   "cell_type": "markdown",
   "id": "60fb3826-074d-4454-829f-082221faca3f",
   "metadata": {},
   "source": [
    "## 2.2 Product cost and shipping cost"
   ]
  },
  {
   "cell_type": "markdown",
   "id": "7c065bd0-3ff8-4dbe-92d9-c9a8316b2d67",
   "metadata": {},
   "source": [
    "The average order price is 160.58 BRL, as we can see, the most expensive order is 13664.08, almost 100 times the average, meaning we probably have a right-tailed distribution, where most of the orders have low cost but there are orders with a very high cost. Let's see the variation in prices, this time separating product cost and shipping cost. To start, let's aggregate the product cost and shipping cost for each order:"
   ]
  },
  {
   "cell_type": "code",
   "execution_count": 4,
   "id": "7e91a291-2ce3-4d53-af45-fcbc371869f8",
   "metadata": {},
   "outputs": [
    {
     "data": {
      "text/html": [
       "<div>\n",
       "<style scoped>\n",
       "    .dataframe tbody tr th:only-of-type {\n",
       "        vertical-align: middle;\n",
       "    }\n",
       "\n",
       "    .dataframe tbody tr th {\n",
       "        vertical-align: top;\n",
       "    }\n",
       "\n",
       "    .dataframe thead th {\n",
       "        text-align: right;\n",
       "    }\n",
       "</style>\n",
       "<table border=\"1\" class=\"dataframe\">\n",
       "  <thead>\n",
       "    <tr style=\"text-align: right;\">\n",
       "      <th></th>\n",
       "      <th>order_id</th>\n",
       "      <th>product_cost</th>\n",
       "      <th>shipping_cost</th>\n",
       "    </tr>\n",
       "  </thead>\n",
       "  <tbody>\n",
       "    <tr>\n",
       "      <th>0</th>\n",
       "      <td>00010242fe8c5a6d1ba2dd792cb16214</td>\n",
       "      <td>58.90</td>\n",
       "      <td>13.29</td>\n",
       "    </tr>\n",
       "    <tr>\n",
       "      <th>1</th>\n",
       "      <td>00018f77f2f0320c557190d7a144bdd3</td>\n",
       "      <td>239.90</td>\n",
       "      <td>19.93</td>\n",
       "    </tr>\n",
       "    <tr>\n",
       "      <th>2</th>\n",
       "      <td>000229ec398224ef6ca0657da4fc703e</td>\n",
       "      <td>199.00</td>\n",
       "      <td>17.87</td>\n",
       "    </tr>\n",
       "    <tr>\n",
       "      <th>3</th>\n",
       "      <td>00024acbcdf0a6daa1e931b038114c75</td>\n",
       "      <td>12.99</td>\n",
       "      <td>12.79</td>\n",
       "    </tr>\n",
       "    <tr>\n",
       "      <th>4</th>\n",
       "      <td>00042b26cf59d7ce69dfabb4e55b4fd9</td>\n",
       "      <td>199.90</td>\n",
       "      <td>18.14</td>\n",
       "    </tr>\n",
       "    <tr>\n",
       "      <th>...</th>\n",
       "      <td>...</td>\n",
       "      <td>...</td>\n",
       "      <td>...</td>\n",
       "    </tr>\n",
       "    <tr>\n",
       "      <th>96473</th>\n",
       "      <td>fffc94f6ce00a00581880bf54a75a037</td>\n",
       "      <td>299.99</td>\n",
       "      <td>43.41</td>\n",
       "    </tr>\n",
       "    <tr>\n",
       "      <th>96474</th>\n",
       "      <td>fffcd46ef2263f404302a634eb57f7eb</td>\n",
       "      <td>350.00</td>\n",
       "      <td>36.53</td>\n",
       "    </tr>\n",
       "    <tr>\n",
       "      <th>96475</th>\n",
       "      <td>fffce4705a9662cd70adb13d4a31832d</td>\n",
       "      <td>99.90</td>\n",
       "      <td>16.95</td>\n",
       "    </tr>\n",
       "    <tr>\n",
       "      <th>96476</th>\n",
       "      <td>fffe18544ffabc95dfada21779c9644f</td>\n",
       "      <td>55.99</td>\n",
       "      <td>8.72</td>\n",
       "    </tr>\n",
       "    <tr>\n",
       "      <th>96477</th>\n",
       "      <td>fffe41c64501cc87c801fd61db3f6244</td>\n",
       "      <td>43.00</td>\n",
       "      <td>12.79</td>\n",
       "    </tr>\n",
       "  </tbody>\n",
       "</table>\n",
       "<p>96478 rows × 3 columns</p>\n",
       "</div>"
      ],
      "text/plain": [
       "                               order_id  product_cost  shipping_cost\n",
       "0      00010242fe8c5a6d1ba2dd792cb16214         58.90          13.29\n",
       "1      00018f77f2f0320c557190d7a144bdd3        239.90          19.93\n",
       "2      000229ec398224ef6ca0657da4fc703e        199.00          17.87\n",
       "3      00024acbcdf0a6daa1e931b038114c75         12.99          12.79\n",
       "4      00042b26cf59d7ce69dfabb4e55b4fd9        199.90          18.14\n",
       "...                                 ...           ...            ...\n",
       "96473  fffc94f6ce00a00581880bf54a75a037        299.99          43.41\n",
       "96474  fffcd46ef2263f404302a634eb57f7eb        350.00          36.53\n",
       "96475  fffce4705a9662cd70adb13d4a31832d         99.90          16.95\n",
       "96476  fffe18544ffabc95dfada21779c9644f         55.99           8.72\n",
       "96477  fffe41c64501cc87c801fd61db3f6244         43.00          12.79\n",
       "\n",
       "[96478 rows x 3 columns]"
      ]
     },
     "execution_count": 4,
     "metadata": {},
     "output_type": "execute_result"
    }
   ],
   "source": [
    "order_product_and_shipping_costs = \"\"\"\n",
    "SELECT\n",
    "    orders.order_id,\n",
    "    SUM(price) AS product_cost,\n",
    "    SUM(freight_value) AS shipping_cost\n",
    "FROM\n",
    "    orders\n",
    "    JOIN order_items USING (order_id)\n",
    "WHERE order_status = 'delivered'\n",
    "GROUP BY orders.order_id\n",
    "\"\"\"\n",
    "\n",
    "df = pd.read_sql_query(order_product_and_shipping_costs, db_connection)\n",
    "df"
   ]
  },
  {
   "cell_type": "markdown",
   "id": "df2775ae-b917-4a51-80ab-759d0c0f3ec1",
   "metadata": {},
   "source": [
    "### Visualization"
   ]
  },
  {
   "cell_type": "markdown",
   "id": "19c6385a-fca0-43ed-b66c-861f710a2018",
   "metadata": {},
   "source": [
    "Let's plot a histogram of each cost. Since the cost can take a huge range of values but most orders have a low cost, I'll limit each plot's x-axes to 500 reals and 80 reals respectively to highlight the distribution of the most common values:"
   ]
  },
  {
   "cell_type": "code",
   "execution_count": 10,
   "id": "ed58cfd5-4b1e-402f-ad46-75e9fe55f7e7",
   "metadata": {},
   "outputs": [
    {
     "data": {
      "image/png": "[encoded data removed]",
      "text/plain": [
       "<Figure size 1500x600 with 2 Axes>"
      ]
     },
     "metadata": {},
     "output_type": "display_data"
    }
   ],
   "source": [
    "import matplotlib.pyplot as plt\n",
    "\n",
    "plt.figure(figsize=(15, 6))\n",
    "# Histogram for total product cost\n",
    "plt.subplot(1, 2, 1)\n",
    "plt.hist(df['product_cost'], bins=1000, color='#2A9D8F')\n",
    "plt.title('Product cost for orders < R$500')\n",
    "plt.xlabel('Product cost (Brazilian reals)')\n",
    "plt.ylabel('Frequency')\n",
    "plt.xlim([0, 500])\n",
    "# Histogram for total shipping cost\n",
    "plt.subplot(1, 2, 2)\n",
    "plt.hist(df['shipping_cost'], bins=800, color='#669BBC')\n",
    "plt.title('Shipping cost for orders < R$80')\n",
    "plt.xlabel('Product cost (Brazilian reals)')\n",
    "plt.xlim([0, 80])\n",
    "plt.show()"
   ]
  }
 ],
 "metadata": {
  "kernelspec": {
   "display_name": "Python 3 (ipykernel)",
   "language": "python",
   "name": "python3"
  },
  "language_info": {
   "codemirror_mode": {
    "name": "ipython",
    "version": 3
   },
   "file_extension": ".py",
   "mimetype": "text/x-python",
   "name": "python",
   "nbconvert_exporter": "python",
   "pygments_lexer": "ipython3",
   "version": "3.12.7"
  }
 },
 "nbformat": 4,
 "nbformat_minor": 5
}
